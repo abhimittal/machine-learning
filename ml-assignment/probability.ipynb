{
 "cells": [
  {
   "cell_type": "code",
   "execution_count": null,
   "metadata": {},
   "outputs": [],
   "source": [
    "# Question 1:\n",
    "a = input(\"Enter probability of A\")\n",
    "b = input(\"Enter probability of B\")\n",
    "c = input(\"Enter probability of A when B already occured\")\n",
    "def conditional_prob(a,b,c):\n",
    "    d=(c*b)/a\n",
    "print(\"Probabilty of B when A already occured is :\",d)\n",
    "\n",
    "\n"
   ]
  },
  {
   "cell_type": "code",
   "execution_count": 3,
   "metadata": {},
   "outputs": [
    {
     "ename": "SyntaxError",
     "evalue": "can't assign to function call (<ipython-input-3-415d38ae1165>, line 2)",
     "output_type": "error",
     "traceback": [
      "\u001b[0;36m  File \u001b[0;32m\"<ipython-input-3-415d38ae1165>\"\u001b[0;36m, line \u001b[0;32m2\u001b[0m\n\u001b[0;31m    P(B1)=6/10\u001b[0m\n\u001b[0m              ^\u001b[0m\n\u001b[0;31mSyntaxError\u001b[0m\u001b[0;31m:\u001b[0m can't assign to function call\n"
     ]
    }
   ],
   "source": [
    "\n",
    "P(B1)=6/10\n",
    "P(B2)=3/7\n",
    "P(Bag1)=1/2\n",
    "P(Bag2)=1/2\n",
    "P=(P(Bag1)*P(B1))/((P(Bag1)*(P(B1)))+(P(Bag2)*(P(B2))))\n",
    "P\n",
    "\n"
   ]
  },
  {
   "cell_type": "code",
   "execution_count": 5,
   "metadata": {},
   "outputs": [
    {
     "data": {
      "text/plain": [
       "0.1111111111111111"
      ]
     },
     "execution_count": 5,
     "metadata": {},
     "output_type": "execute_result"
    }
   ],
   "source": [
    "prob_truth = 2/3\n",
    "prob_of_four = 1/6\n",
    "prob_no_is_really_four=(prob_truth)*(prob_of_four)\n",
    "prob_no_is_really_four"
   ]
  },
  {
   "cell_type": "code",
   "execution_count": null,
   "metadata": {},
   "outputs": [],
   "source": []
  },
  {
   "cell_type": "code",
   "execution_count": null,
   "metadata": {},
   "outputs": [],
   "source": []
  },
  {
   "cell_type": "code",
   "execution_count": null,
   "metadata": {},
   "outputs": [],
   "source": []
  }
 ],
 "metadata": {
  "kernelspec": {
   "display_name": "Python 3",
   "language": "python",
   "name": "python3"
  },
  "language_info": {
   "codemirror_mode": {
    "name": "ipython",
    "version": 3
   },
   "file_extension": ".py",
   "mimetype": "text/x-python",
   "name": "python",
   "nbconvert_exporter": "python",
   "pygments_lexer": "ipython3",
   "version": "3.6.5"
  }
 },
 "nbformat": 4,
 "nbformat_minor": 2
}
